{
  "nbformat": 4,
  "nbformat_minor": 0,
  "metadata": {
    "colab": {
      "provenance": []
    },
    "kernelspec": {
      "name": "python3",
      "display_name": "Python 3"
    },
    "language_info": {
      "name": "python"
    }
  },
  "cells": [
    {
      "cell_type": "code",
      "execution_count": 1,
      "metadata": {
        "id": "iukYUezpuiSb"
      },
      "outputs": [],
      "source": [
        "import numpy as np"
      ]
    },
    {
      "cell_type": "code",
      "source": [
        "# Problems 1.\n",
        "a = [ 17,22,19]\n",
        "vect_a = np.array(a)\n",
        "vect_a"
      ],
      "metadata": {
        "colab": {
          "base_uri": "https://localhost:8080/"
        },
        "id": "wdVMBTAluweV",
        "outputId": "a58932b2-f0d0-42cb-d344-4426ed24729e"
      },
      "execution_count": 12,
      "outputs": [
        {
          "output_type": "execute_result",
          "data": {
            "text/plain": [
              "array([17, 22, 19])"
            ]
          },
          "metadata": {},
          "execution_count": 12
        }
      ]
    },
    {
      "cell_type": "code",
      "source": [
        "# Problems 2.\n",
        "b = [10,20,11]\n",
        "c = [5,12,9]\n",
        "vect_b = np.array(b)\n",
        "vect_c = np.array(c)\n",
        "print('A + B = ', vect_a + vect_b)\n",
        "print('B - C = ', vect_b - vect_c)\n",
        "print('A . C = ', np.dot(vect_a,vect_c))\n",
        "print('A x B = ', vect_a * vect_b)\n",
        "mutlak_a = np.linalg.norm(vect_a,2)\n",
        "mutlak_b = np.linalg.norm(vect_b,2)\n",
        "cos_tetha = np.dot(vect_a,vect_b)/(np.dot(mutlak_a,mutlak_b))\n",
        "print('Jarak antara 2 sudut A dan B : ', cos_tetha)"
      ],
      "metadata": {
        "colab": {
          "base_uri": "https://localhost:8080/"
        },
        "id": "TXPTBQslzOkM",
        "outputId": "7949e668-3f5d-414c-d491-b08bd639a78d"
      },
      "execution_count": 15,
      "outputs": [
        {
          "output_type": "stream",
          "name": "stdout",
          "text": [
            "A + B =  [27 42 30]\n",
            "B - C =  [5 8 2]\n",
            "A . C =  520\n",
            "A x B =  [170 440 209]\n",
            "Jarak antara 2 sudut A dan B :  0.9759590023331435\n"
          ]
        }
      ]
    },
    {
      "cell_type": "code",
      "source": [
        "# Problems 3.\n",
        "import matplotlib.pyplot as plt\n",
        "\n",
        "u = [2,5]\n",
        "v = [3,1]\n",
        "kordinat = np.array([[2,5],[3,1]])\n",
        "o = np.array([[0,0],[0,0]]) # titik awal\n",
        "plt.quiver(*o, kordinat[:,0],kordinat[:,1],color=['red','green'],scale=15 )\n"
      ],
      "metadata": {
        "colab": {
          "base_uri": "https://localhost:8080/",
          "height": 448
        },
        "id": "81_jer_43Npm",
        "outputId": "e1c6b6a9-19c3-4cb4-8788-4def3265fd73"
      },
      "execution_count": 23,
      "outputs": [
        {
          "output_type": "execute_result",
          "data": {
            "text/plain": [
              "<matplotlib.quiver.Quiver at 0x7f0185c1f430>"
            ]
          },
          "metadata": {},
          "execution_count": 23
        },
        {
          "output_type": "display_data",
          "data": {
            "text/plain": [
              "<Figure size 640x480 with 1 Axes>"
            ],
            "image/png": "[encoded data removed]"
          },
          "metadata": {}
        }
      ]
    }
  ]
}